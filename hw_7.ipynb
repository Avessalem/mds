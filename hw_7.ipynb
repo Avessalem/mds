{
 "cells": [
  {
   "cell_type": "code",
   "execution_count": 79,
   "metadata": {},
   "outputs": [],
   "source": [
    "import numpy as np\n",
    "import random\n",
    "import matplotlib.pyplot as plt\n",
    "import math"
   ]
  },
  {
   "cell_type": "markdown",
   "metadata": {},
   "source": [
    "### Уровень 0"
   ]
  },
  {
   "cell_type": "markdown",
   "metadata": {},
   "source": [
    "#### Задание 1"
   ]
  },
  {
   "cell_type": "code",
   "execution_count": 68,
   "metadata": {},
   "outputs": [],
   "source": [
    "def get_prob(n, k):\n",
    "    return math.factorial(n)/(math.factorial(k)*math.factorial(n-k))*1/2**15"
   ]
  },
  {
   "cell_type": "code",
   "execution_count": 76,
   "metadata": {},
   "outputs": [
    {
     "name": "stdout",
     "output_type": "stream",
     "text": [
      "Вероятность выпадения простого числа орлов =  0.35\n"
     ]
    }
   ],
   "source": [
    "prime_numbers = [2,3,5,7,11,13]\n",
    "probs = []\n",
    "for i in prime_numbers:\n",
    "    probs.append (get_prob(15,i))\n",
    "print('Вероятность выпадения простого числа орлов = ', round(sum(probs), 2))"
   ]
  },
  {
   "cell_type": "markdown",
   "metadata": {},
   "source": [
    "#### Задание 2"
   ]
  },
  {
   "cell_type": "code",
   "execution_count": 22,
   "metadata": {},
   "outputs": [],
   "source": [
    "def get_data(d=2, obs_count = 1000):\n",
    "    result = []\n",
    "    for n in range(0, obs_count):\n",
    "        result.append(random.randint(0,d-1))\n",
    "    return result"
   ]
  },
  {
   "cell_type": "code",
   "execution_count": 47,
   "metadata": {},
   "outputs": [],
   "source": [
    "data = get_data(10,10000)"
   ]
  },
  {
   "cell_type": "code",
   "execution_count": 48,
   "metadata": {},
   "outputs": [
    {
     "data": {
      "text/plain": [
       "(array([1038., 1056., 1008.,  944.,  946.,  991.,  976., 1016., 1025.,\n",
       "        1000.]),\n",
       " array([0. , 0.9, 1.8, 2.7, 3.6, 4.5, 5.4, 6.3, 7.2, 8.1, 9. ]),\n",
       " <BarContainer object of 10 artists>)"
      ]
     },
     "execution_count": 48,
     "metadata": {},
     "output_type": "execute_result"
    },
    {
     "data": {
      "image/png": "[encoded data removed]",
      "text/plain": [
       "<Figure size 432x288 with 1 Axes>"
      ]
     },
     "metadata": {
      "needs_background": "light"
     },
     "output_type": "display_data"
    }
   ],
   "source": [
    "plt.hist(data, orientation = 'horizontal')"
   ]
  },
  {
   "cell_type": "code",
   "execution_count": 75,
   "metadata": {},
   "outputs": [
    {
     "name": "stdout",
     "output_type": "stream",
     "text": [
      "Дисперсия = 8.42, Медиана = 5.0, Среднее значение = 4.48\n"
     ]
    }
   ],
   "source": [
    "print('Дисперсия = {}, Медиана = {}, Среднее значение = {}'.format(round(np.var(data), 2), np.median(data), round(np.mean(data), 2)))"
   ]
  },
  {
   "cell_type": "markdown",
   "metadata": {},
   "source": [
    "### Уровень 1"
   ]
  },
  {
   "cell_type": "markdown",
   "metadata": {},
   "source": [
    "#### Задание 3"
   ]
  },
  {
   "cell_type": "markdown",
   "metadata": {},
   "source": [
    "A1 - монеты 1 и 2 упали одной и той же стороной;\n",
    "\n",
    "A2 - монеты 2 и 3 упали одной и той же стороной;\n",
    "\n",
    "A3 - монеты 1 и 3 упали одной и той же стороной.\n",
    "\n",
    "При броске трёх уравновешенных монет возможны 8 исходов: 000 001 011 111 110 100 101 010\n",
    "\n",
    "Вероятность каждого из событий А1, А2 или А3, 4/8 = 1/2\n",
    "Если происходит событие А1, то исходы могут быть следующими: 000 001 111 110, при этом событие A2 происходит\n",
    "    в 2/4 = 1/2 случаев, то есть вероятность события А2 не увеличилась вследствие того, что произошло событие А1,\n",
    "    следовательно они являются независимыми.\n",
    "Аналогично и для других пар событий.\n",
    "\n",
    "Однако, если происходят любые два из описанных событий, то вероятность третьего - 100%, \n",
    "следовательно события А1, А2, А3 являются зависимыми в совокупности\n"
   ]
  },
  {
   "cell_type": "markdown",
   "metadata": {},
   "source": [
    "#### Задание 4"
   ]
  },
  {
   "cell_type": "code",
   "execution_count": 78,
   "metadata": {},
   "outputs": [
    {
     "name": "stdout",
     "output_type": "stream",
     "text": [
      "0.135\n"
     ]
    }
   ],
   "source": [
    "#Вероятность выбрать наугад продукцию высшего сорта\n",
    "p = 0.2*0.1+0.3*0.05+0.5*0.2\n",
    "print(p)"
   ]
  }
 ],
 "metadata": {
  "kernelspec": {
   "display_name": "Python 3",
   "language": "python",
   "name": "python3"
  },
  "language_info": {
   "codemirror_mode": {
    "name": "ipython",
    "version": 3
   },
   "file_extension": ".py",
   "mimetype": "text/x-python",
   "name": "python",
   "nbconvert_exporter": "python",
   "pygments_lexer": "ipython3",
   "version": "3.8.5"
  }
 },
 "nbformat": 4,
 "nbformat_minor": 4
}
