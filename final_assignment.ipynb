{
 "cells": [
  {
   "cell_type": "code",
   "execution_count": 1,
   "metadata": {},
   "outputs": [],
   "source": [
    "import matplotlib.pyplot as plt\n",
    "import numpy as np\n",
    "\n",
    "from scipy.optimize import minimize"
   ]
  },
  {
   "cell_type": "markdown",
   "metadata": {},
   "source": [
    "### Задание 1"
   ]
  },
  {
   "cell_type": "code",
   "execution_count": 3,
   "metadata": {},
   "outputs": [],
   "source": [
    "from sklearn.metrics.pairwise import cosine_similarity"
   ]
  },
  {
   "cell_type": "code",
   "execution_count": 5,
   "metadata": {},
   "outputs": [],
   "source": [
    "ratings = np.array([[ 4,  4,  9,  4,  1,  6, 10,  7,  9,  6,  9,  2,  8,  6,  6],\n",
    "                     [ 9,  2,  5, 10,  7,  8, 10,  5,  6,  2,  1,  6,  8,  9,  7],\n",
    "                     [ 1,  6,  8,  8,  4,  9,  3,  8, 10,  5,  2,  6,  8,  1,  6],\n",
    "                     [ 6,  1,  9,  7,  7,  9,  2,  3,  5,  1,  6,  6,  3,  2,  7],\n",
    "                     [ 3,  7,  3,  5,  7,  9,  9,  6,  2,  9,  1,  2,  8, 10,  6],\n",
    "                     [ 8,  3,  7,  3,  8,  6,  1,  8,  8,  6,  1,  9,  4, 10,  1],\n",
    "                     [ 9,  8,  4,  8,  8, 10,  6,  1,  1,  2,  9,  5,  2,  7,  2],\n",
    "                     [ 4,  1,  6,  4,  3, 10,  4,  4,  2,  8,  7,  9,  3,  8,  3],\n",
    "                     [ 2,  7,  7,  6, 10,  6,  8,  9,  8,  6, 10,  1,  7, 10,  4],\n",
    "                     [ 5, 10,  8,  8,  9,  7,  2,  9,  9, 10,  8,  8,  8,  6, 10]])"
   ]
  },
  {
   "cell_type": "code",
   "execution_count": 24,
   "metadata": {},
   "outputs": [
    {
     "name": "stdout",
     "output_type": "stream",
     "text": [
      "x = [ 4  4  9  4  1  6 10  7  9  6  9  2  8  6  6] \n",
      "y = [ 2  7  7  6 10  6  8  9  8  6 10  1  7 10  4] \n",
      "cosine = 0.91 \n",
      "x = [ 9  2  5 10  7  8 10  5  6  2  1  6  8  9  7] \n",
      "y = [ 3  7  3  5  7  9  9  6  2  9  1  2  8 10  6] \n",
      "cosine = 0.87 \n",
      "x = [ 1  6  8  8  4  9  3  8 10  5  2  6  8  1  6] \n",
      "y = [ 5 10  8  8  9  7  2  9  9 10  8  8  8  6 10] \n",
      "cosine = 0.92 \n",
      "x = [6 1 9 7 7 9 2 3 5 1 6 6 3 2 7] \n",
      "y = [ 5 10  8  8  9  7  2  9  9 10  8  8  8  6 10] \n",
      "cosine = 0.86 \n",
      "x = [ 3  7  3  5  7  9  9  6  2  9  1  2  8 10  6] \n",
      "y = [ 2  7  7  6 10  6  8  9  8  6 10  1  7 10  4] \n",
      "cosine = 0.88 \n",
      "x = [ 8  3  7  3  8  6  1  8  8  6  1  9  4 10  1] \n",
      "y = [ 5 10  8  8  9  7  2  9  9 10  8  8  8  6 10] \n",
      "cosine = 0.86 \n",
      "x = [ 9  8  4  8  8 10  6  1  1  2  9  5  2  7  2] \n",
      "y = [6 1 9 7 7 9 2 3 5 1 6 6 3 2 7] \n",
      "cosine = 0.83 \n",
      "x = [ 4  1  6  4  3 10  4  4  2  8  7  9  3  8  3] \n",
      "y = [ 8  3  7  3  8  6  1  8  8  6  1  9  4 10  1] \n",
      "cosine = 0.84 \n",
      "x = [ 2  7  7  6 10  6  8  9  8  6 10  1  7 10  4] \n",
      "y = [ 4  4  9  4  1  6 10  7  9  6  9  2  8  6  6] \n",
      "cosine = 0.91 \n",
      "x = [ 5 10  8  8  9  7  2  9  9 10  8  8  8  6 10] \n",
      "y = [ 1  6  8  8  4  9  3  8 10  5  2  6  8  1  6] \n",
      "cosine = 0.92 \n"
     ]
    }
   ],
   "source": [
    "i = 0\n",
    "for cosine in cosine_similarity(ratings): \n",
    "    cosine[i] = 0\n",
    "    best_y = np.where(cosine == np.amax(cosine))\n",
    "    print('x = {} \\ny = {} \\ncosine = {} '.format(ratings[i], ratings[best_y][0], round(np.amax(cosine),2)))\n",
    "    i += 1\n",
    "'''\n",
    "Считаем косинусное сходство для каждой пары юзеров\n",
    "'''\n"
   ]
  },
  {
   "cell_type": "code",
   "execution_count": 25,
   "metadata": {},
   "outputs": [],
   "source": [
    "from sklearn.decomposition import PCA"
   ]
  },
  {
   "cell_type": "code",
   "execution_count": 28,
   "metadata": {
    "scrolled": true
   },
   "outputs": [
    {
     "data": {
      "text/plain": [
       "array([[-5.30986101,  1.92919845, -4.93300027,  2.70188013,  5.50497886],\n",
       "       [ 2.87763403,  2.71659559,  1.40592782,  7.26325751, -4.50322291],\n",
       "       [-4.94010408, -6.68861167, -0.94550184,  3.61556661, -0.68969272],\n",
       "       [ 5.14939908, -6.28027284, -4.65978558,  1.09024004, -1.01471112],\n",
       "       [-1.37488691,  7.54357985,  4.00834369,  2.1284001 , -0.16324949],\n",
       "       [ 2.65341956, -3.77075601,  8.58430748, -1.46628319,  1.67401769],\n",
       "       [ 8.61573944,  3.78603335, -4.02721027, -4.37582577, -3.13880277],\n",
       "       [ 5.39658258, -1.0170466 ,  1.01456742, -1.89512837,  6.54883538],\n",
       "       [-5.7843488 ,  5.29857107, -1.48083611, -3.71295542,  0.21312695],\n",
       "       [-7.2835739 , -3.51729118,  1.03318766, -5.34915166, -4.43127987]])"
      ]
     },
     "execution_count": 28,
     "metadata": {},
     "output_type": "execute_result"
    }
   ],
   "source": [
    "'''\n",
    "Сжимаем количество признаков каждого пользователя до 5 с помощью PCA\n",
    "'''\n",
    "X = ratings\n",
    "pca = PCA(n_components=5)\n",
    "X_reduced = pca.fit_transform(X)\n",
    "X_reduced"
   ]
  },
  {
   "cell_type": "markdown",
   "metadata": {},
   "source": [
    "### Задание 2"
   ]
  },
  {
   "cell_type": "markdown",
   "metadata": {},
   "source": [
    "\n",
    "Вычислите производную $tg^2(sin(x) + cos(2x+3))$ в точке $x_0=1$ (на python и на бумаге)."
   ]
  },
  {
   "cell_type": "code",
   "execution_count": 2,
   "metadata": {},
   "outputs": [],
   "source": [
    "from sympy import *"
   ]
  },
  {
   "cell_type": "code",
   "execution_count": 3,
   "metadata": {},
   "outputs": [],
   "source": [
    "x = symbols('x')"
   ]
  },
  {
   "cell_type": "code",
   "execution_count": 4,
   "metadata": {},
   "outputs": [],
   "source": [
    "func = tan(sin(x)+cos(x*2+3))**2"
   ]
  },
  {
   "cell_type": "code",
   "execution_count": 12,
   "metadata": {},
   "outputs": [],
   "source": [
    "def func(y):\n",
    "    return np.tan(np.sin(y)+np.cos(y*2+3))**2"
   ]
  },
  {
   "cell_type": "code",
   "execution_count": 6,
   "metadata": {},
   "outputs": [
    {
     "name": "stdout",
     "output_type": "stream",
     "text": [
      "2*(-2*sin(2*x + 3) + cos(x))*(tan(sin(x) + cos(2*x + 3))**2 + 1)*tan(sin(x) + cos(2*x + 3))\n"
     ]
    }
   ],
   "source": [
    "derivative = diff(func)\n",
    "print(derivative)"
   ]
  },
  {
   "cell_type": "code",
   "execution_count": 10,
   "metadata": {},
   "outputs": [],
   "source": [
    "def d_func(z):\n",
    "    return 2*(-2*np.sin(2*z + 3) + np.cos(z))*(np.tan(np.sin(z) + np.cos(2*z + 3))**2 + 1)*np.tan(np.sin(z) + np.cos(2*z + 3))"
   ]
  },
  {
   "cell_type": "code",
   "execution_count": 24,
   "metadata": {},
   "outputs": [
    {
     "name": "stdout",
     "output_type": "stream",
     "text": [
      "Производная функции в точке x=1: 55.385917635337854\n"
     ]
    }
   ],
   "source": [
    "print(f'Производная функции в точке x=1: {d_func(1)}')"
   ]
  },
  {
   "cell_type": "markdown",
   "metadata": {},
   "source": [
    "### Задание 3"
   ]
  },
  {
   "cell_type": "code",
   "execution_count": 74,
   "metadata": {},
   "outputs": [],
   "source": [
    "import scipy.optimize as opt"
   ]
  },
  {
   "cell_type": "code",
   "execution_count": 69,
   "metadata": {},
   "outputs": [],
   "source": [
    "def f(x, a, b):\n",
    "    return np.e**a * np.sin(b*x) + x"
   ]
  },
  {
   "cell_type": "code",
   "execution_count": 70,
   "metadata": {},
   "outputs": [],
   "source": [
    "x = np.array([0.        , 0.26315789, 0.52631579, 0.78947368, 1.05263158,\n",
    "              1.31578947, 1.57894737, 1.84210526, 2.10526316, 2.36842105,\n",
    "              2.63157895, 2.89473684, 3.15789474, 3.42105263, 3.68421053,\n",
    "              3.94736842, 4.21052632, 4.47368421, 4.73684211, 5.        ])"
   ]
  },
  {
   "cell_type": "code",
   "execution_count": 71,
   "metadata": {},
   "outputs": [],
   "source": [
    "fx = np.array([  0.        , -12.01819092, -18.90968634, -17.68786571,\n",
    "                -8.7529108 ,   4.27524517,  16.06801336,  21.81250213,\n",
    "                19.22059845,   9.48411207,  -3.22273056, -13.48576488,\n",
    "               -16.91096359, -11.95866834,  -0.58630088,  12.56873816,\n",
    "                22.12489421,  24.20292139,  18.04522521,   6.33211092])"
   ]
  },
  {
   "cell_type": "code",
   "execution_count": 73,
   "metadata": {},
   "outputs": [],
   "source": [
    "def error(params):\n",
    "    return np.sum(np.abs(fx - f(x, params[0], params[1])))"
   ]
  },
  {
   "cell_type": "code",
   "execution_count": 128,
   "metadata": {},
   "outputs": [],
   "source": [
    "from scipy.optimize import differential_evolution as de"
   ]
  },
  {
   "cell_type": "code",
   "execution_count": 165,
   "metadata": {},
   "outputs": [],
   "source": [
    "min_r=[]\n",
    "for i in range(0,100):\n",
    "    min_r.append(de(error, bounds=[(-100,100),(-100,100)],tol=0.001, maxiter = 10000))"
   ]
  },
  {
   "cell_type": "code",
   "execution_count": 166,
   "metadata": {},
   "outputs": [],
   "source": [
    "result_val = []\n",
    "result_err = []\n",
    "for ii in min_r:\n",
    "    result_err.append(ii['fun'])\n",
    "    result_val.append(ii['x'])"
   ]
  },
  {
   "cell_type": "code",
   "execution_count": 167,
   "metadata": {},
   "outputs": [
    {
     "name": "stdout",
     "output_type": "stream",
     "text": [
      "Минимальные параметры a и b, минимизирующие ошибку: 3.000000000610159 и -2.4999999999885225\n"
     ]
    }
   ],
   "source": [
    "print(f'Минимальные параметры a и b, минимизирующие ошибку: {result_val[result_err.index(min(result_err))][0]} и {result_val[result_err.index(min(result_err))][1]}')"
   ]
  },
  {
   "cell_type": "markdown",
   "metadata": {},
   "source": [
    "### Задание 4"
   ]
  },
  {
   "cell_type": "code",
   "execution_count": 25,
   "metadata": {},
   "outputs": [],
   "source": [
    "from random import randint"
   ]
  },
  {
   "cell_type": "code",
   "execution_count": 41,
   "metadata": {},
   "outputs": [],
   "source": [
    "arr = []\n",
    "in_arr = []"
   ]
  },
  {
   "cell_type": "code",
   "execution_count": 42,
   "metadata": {},
   "outputs": [],
   "source": [
    "'''\n",
    "Создаём 1000 выборок размером 50, наполненных 20 дискретными значениями\n",
    "'''\n",
    "for i in range(0,1000):\n",
    "    for ii in range(0,50):\n",
    "        in_arr.append(randint(0,20))\n",
    "    arr.append(in_arr)\n",
    "    in_arr = []"
   ]
  },
  {
   "cell_type": "code",
   "execution_count": 46,
   "metadata": {},
   "outputs": [],
   "source": [
    "means = [np.mean(i) for i in arr]"
   ]
  },
  {
   "cell_type": "code",
   "execution_count": 68,
   "metadata": {},
   "outputs": [
    {
     "data": {
      "text/plain": [
       "Text(0.5, 1.0, 'Распределение средних значений выборок')"
      ]
     },
     "execution_count": 68,
     "metadata": {},
     "output_type": "execute_result"
    },
    {
     "data": {
      "image/png": "[encoded data removed]",
      "text/plain": [
       "<Figure size 432x288 with 1 Axes>"
      ]
     },
     "metadata": {
      "needs_background": "light"
     },
     "output_type": "display_data"
    }
   ],
   "source": [
    "plt.hist(means, bins = 20)\n",
    "plt.title('Распределение средних значений выборок')"
   ]
  },
  {
   "cell_type": "markdown",
   "metadata": {},
   "source": [
    "### Задание 5"
   ]
  },
  {
   "cell_type": "code",
   "execution_count": 56,
   "metadata": {},
   "outputs": [],
   "source": [
    "m = np.array([[1, 4],\n",
    "              [1, 1]])"
   ]
  },
  {
   "cell_type": "code",
   "execution_count": 62,
   "metadata": {},
   "outputs": [
    {
     "name": "stdout",
     "output_type": "stream",
     "text": [
      "Собственные значения матрицы m - 3.0000000000000004 & -0.9999999999999996\n",
      "Собственные вектора матрицы m -  [ 0.89442719 -0.89442719] & [0.4472136 0.4472136]\n"
     ]
    }
   ],
   "source": [
    "print(f'Собственные значения матрицы m - {np.linalg.eig(m)[0][0]} & {np.linalg.eig(m)[0][1]}\\nСобственные вектора матрицы m -  {np.linalg.eig(m)[1][0]} & {np.linalg.eig(m)[1][1]}')"
   ]
  }
 ],
 "metadata": {
  "kernelspec": {
   "display_name": "Python 3",
   "language": "python",
   "name": "python3"
  },
  "language_info": {
   "codemirror_mode": {
    "name": "ipython",
    "version": 3
   },
   "file_extension": ".py",
   "mimetype": "text/x-python",
   "name": "python",
   "nbconvert_exporter": "python",
   "pygments_lexer": "ipython3",
   "version": "3.8.5"
  }
 },
 "nbformat": 4,
 "nbformat_minor": 4
}
